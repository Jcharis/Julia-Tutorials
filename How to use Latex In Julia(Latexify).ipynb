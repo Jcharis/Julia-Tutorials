{
 "cells": [
  {
   "cell_type": "markdown",
   "metadata": {},
   "source": [
    "### LaTex In Julia\n",
    "+ Pkg.add(\"Latexify\")\n",
    "+ Pkg.add(\"LaTeXStrings\")"
   ]
  },
  {
   "cell_type": "code",
   "execution_count": 51,
   "metadata": {},
   "outputs": [],
   "source": [
    "using Latexify"
   ]
  },
  {
   "cell_type": "markdown",
   "metadata": {},
   "source": [
    "#### In Built Support for Greek Alphabeth and other symbols"
   ]
  },
  {
   "cell_type": "code",
   "execution_count": 52,
   "metadata": {},
   "outputs": [
    {
     "data": {
      "text/plain": [
       "\"\\alpha + tab\""
      ]
     },
     "execution_count": 52,
     "metadata": {},
     "output_type": "execute_result"
    }
   ],
   "source": [
    "α = \"\\alpha + tab\""
   ]
  },
  {
   "cell_type": "code",
   "execution_count": 54,
   "metadata": {},
   "outputs": [],
   "source": [
    "θ = \"\\theta\"\n",
    "∞ = \"\\infty\"\n",
    "π = \"\\pi\"\n",
    "∑ = \"\\sum\"\n",
    "∫ = \"\\int\"\n",
    "σ = \"\\sigma\";"
   ]
  },
  {
   "cell_type": "markdown",
   "metadata": {},
   "source": [
    "##### How to Latexify An Expression\n",
    "###### Latexify = convert to latex format\n",
    "+ latexify()\n",
    "+ L\" \""
   ]
  },
  {
   "cell_type": "markdown",
   "metadata": {},
   "source": [
    "#### Markdown\n",
    "$0 < x > 1$"
   ]
  },
  {
   "cell_type": "code",
   "execution_count": 55,
   "metadata": {},
   "outputs": [
    {
     "data": {
      "text/plain": [
       "\"0 < x > 10\""
      ]
     },
     "execution_count": 55,
     "metadata": {},
     "output_type": "execute_result"
    }
   ],
   "source": [
    "# In Julia\n",
    "a = \"0 < x > 10\""
   ]
  },
  {
   "cell_type": "code",
   "execution_count": 56,
   "metadata": {},
   "outputs": [],
   "source": [
    "using LaTeXStrings"
   ]
  },
  {
   "cell_type": "code",
   "execution_count": 57,
   "metadata": {},
   "outputs": [
    {
     "name": "stdout",
     "output_type": "stream",
     "text": [
      "                       @L_mstr      0 bytes  LaTeXStrings.#@L_mstr\n",
      "                        @L_str      0 bytes  LaTeXStrings.#@L_str\n",
      "                   LaTeXString    112 bytes  DataType\n",
      "                  LaTeXStrings  21788 KB     Module\n",
      "                   latexstring      0 bytes  LaTeXStrings.#latexstring\n"
     ]
    }
   ],
   "source": [
    "whos(LaTeXStrings)"
   ]
  },
  {
   "cell_type": "code",
   "execution_count": 58,
   "metadata": {},
   "outputs": [
    {
     "data": {
      "text/latex": [
       "$0 < x > 10$"
      ],
      "text/plain": [
       "L\"$0 < x > 10$\""
      ]
     },
     "execution_count": 58,
     "metadata": {},
     "output_type": "execute_result"
    }
   ],
   "source": [
    "L\"$0 < x > 10$\""
   ]
  },
  {
   "cell_type": "markdown",
   "metadata": {},
   "source": [
    "$\\frac{1}{2}$"
   ]
  },
  {
   "cell_type": "code",
   "execution_count": 59,
   "metadata": {},
   "outputs": [
    {
     "data": {
      "text/plain": [
       ":(1 / 2)"
      ]
     },
     "execution_count": 59,
     "metadata": {},
     "output_type": "execute_result"
    }
   ],
   "source": [
    "# Latexify an expression == to convert to the latex format\n",
    "ex = :(1/2)"
   ]
  },
  {
   "cell_type": "code",
   "execution_count": 60,
   "metadata": {},
   "outputs": [
    {
     "data": {
      "text/latex": [
       "$\\frac{1}{2}$"
      ],
      "text/plain": [
       "L\"$\\frac{1}{2}$\""
      ]
     },
     "execution_count": 60,
     "metadata": {},
     "output_type": "execute_result"
    }
   ],
   "source": [
    "latexify(ex)"
   ]
  },
  {
   "cell_type": "code",
   "execution_count": 61,
   "metadata": {},
   "outputs": [
    {
     "data": {
      "text/latex": [
       "\\frac{1}{2}"
      ],
      "text/plain": [
       "L\"\\frac{1}{2}\""
      ]
     },
     "execution_count": 61,
     "metadata": {},
     "output_type": "execute_result"
    }
   ],
   "source": [
    "# To get the raw latex format without $\n",
    "latexraw(ex)"
   ]
  },
  {
   "cell_type": "code",
   "execution_count": 62,
   "metadata": {},
   "outputs": [
    {
     "name": "stdout",
     "output_type": "stream",
     "text": [
      "$\\frac{1}{2}$"
     ]
    }
   ],
   "source": [
    "# latexraw is equivalent to print(latexify(ex))\n",
    "print(latexify(ex))"
   ]
  },
  {
   "cell_type": "code",
   "execution_count": 76,
   "metadata": {},
   "outputs": [
    {
     "data": {
      "text/latex": [
       "$\\frac{2}{4x}$"
      ],
      "text/plain": [
       "L\"$\\frac{2}{4x}$\""
      ]
     },
     "execution_count": 76,
     "metadata": {},
     "output_type": "execute_result"
    }
   ],
   "source": [
    "L\"$\\frac{2}{4x}$\"\n"
   ]
  },
  {
   "cell_type": "code",
   "execution_count": 77,
   "metadata": {},
   "outputs": [
    {
     "data": {
      "text/latex": [
       "${12 \\over 4}$"
      ],
      "text/plain": [
       "L\"${12 \\over 4}$\""
      ]
     },
     "execution_count": 77,
     "metadata": {},
     "output_type": "execute_result"
    }
   ],
   "source": [
    "L\"${12 \\over 4}$\""
   ]
  },
  {
   "cell_type": "code",
   "execution_count": 63,
   "metadata": {},
   "outputs": [
    {
     "data": {
      "text/plain": [
       ":(x / (y + x) ^ 4)"
      ]
     },
     "execution_count": 63,
     "metadata": {},
     "output_type": "execute_result"
    }
   ],
   "source": [
    "# Latexify an expression == to convert to the latex format\n",
    "ex1 = :(x/(y+x)^4)"
   ]
  },
  {
   "cell_type": "code",
   "execution_count": 64,
   "metadata": {},
   "outputs": [
    {
     "data": {
      "text/latex": [
       "$\\frac{x}{\\left( y + x \\right)^{4}}$"
      ],
      "text/plain": [
       "L\"$\\frac{x}{\\left( y + x \\right)^{4}}$\""
      ]
     },
     "execution_count": 64,
     "metadata": {},
     "output_type": "execute_result"
    }
   ],
   "source": [
    "latexify(ex1)"
   ]
  },
  {
   "cell_type": "code",
   "execution_count": 65,
   "metadata": {},
   "outputs": [
    {
     "name": "stdout",
     "output_type": "stream",
     "text": [
      "$\\frac{x}{\\left( y + x \\right)^{4}}$"
     ]
    }
   ],
   "source": [
    "latexstring = latexify(ex1)\n",
    "print(latexstring)"
   ]
  },
  {
   "cell_type": "code",
   "execution_count": 66,
   "metadata": {},
   "outputs": [
    {
     "data": {
      "text/latex": [
       "$\\frac{x}{\\left( y + x \\right)^{4}}$"
      ],
      "text/plain": [
       "L\"$\\frac{x}{\\left( y + x \\right)^{4}}$\""
      ]
     },
     "execution_count": 66,
     "metadata": {},
     "output_type": "execute_result"
    }
   ],
   "source": [
    "# Use the simple format\n",
    "L\"$\\frac{x}{\\left( y + x \\right)^{4}}$\""
   ]
  },
  {
   "cell_type": "code",
   "execution_count": 67,
   "metadata": {},
   "outputs": [
    {
     "data": {
      "text/plain": [
       ":((y1 - y2) / (x1 - x2))"
      ]
     },
     "execution_count": 67,
     "metadata": {},
     "output_type": "execute_result"
    }
   ],
   "source": [
    "## Slope\n",
    "slope = :((y1-y2)/(x1-x2))"
   ]
  },
  {
   "cell_type": "code",
   "execution_count": 68,
   "metadata": {},
   "outputs": [
    {
     "data": {
      "text/latex": [
       "$\\frac{y1 - y2}{x1 - x2}$"
      ],
      "text/plain": [
       "L\"$\\frac{y1 - y2}{x1 - x2}$\""
      ]
     },
     "execution_count": 68,
     "metadata": {},
     "output_type": "execute_result"
    }
   ],
   "source": [
    "latexify(slope)"
   ]
  },
  {
   "cell_type": "code",
   "execution_count": 69,
   "metadata": {},
   "outputs": [
    {
     "data": {
      "text/plain": [
       ":((y_1 - y_2) / (x_1 - x_2))"
      ]
     },
     "execution_count": 69,
     "metadata": {},
     "output_type": "execute_result"
    }
   ],
   "source": [
    "# underscore is for subscripting\n",
    "slope1 = :((y_1-y_2)/(x_1-x_2))"
   ]
  },
  {
   "cell_type": "code",
   "execution_count": 70,
   "metadata": {},
   "outputs": [
    {
     "data": {
      "text/latex": [
       "$\\frac{y_{1} - y_{2}}{x_{1} - x_{2}}$"
      ],
      "text/plain": [
       "L\"$\\frac{y_{1} - y_{2}}{x_{1} - x_{2}}$\""
      ]
     },
     "execution_count": 70,
     "metadata": {},
     "output_type": "execute_result"
    }
   ],
   "source": [
    "latexify(slope1)"
   ]
  },
  {
   "cell_type": "code",
   "execution_count": 71,
   "metadata": {},
   "outputs": [
    {
     "name": "stdout",
     "output_type": "stream",
     "text": [
      "$\\frac{y_{1} - y_{2}}{x_{1} - x_{2}}$"
     ]
    }
   ],
   "source": [
    "print(latexify(slope1))"
   ]
  },
  {
   "cell_type": "code",
   "execution_count": 72,
   "metadata": {},
   "outputs": [
    {
     "data": {
      "text/latex": [
       "\\frac{y_{1} - y_{2}}{x_{1} - x_{2}}"
      ],
      "text/plain": [
       "L\"\\frac{y_{1} - y_{2}}{x_{1} - x_{2}}\""
      ]
     },
     "execution_count": 72,
     "metadata": {},
     "output_type": "execute_result"
    }
   ],
   "source": [
    "latexraw(slope1)"
   ]
  },
  {
   "cell_type": "code",
   "execution_count": 73,
   "metadata": {},
   "outputs": [
    {
     "data": {
      "text/latex": [
       "$\\frac{y_{1} - y_{2}}{x_{1} - x_{2}}$"
      ],
      "text/plain": [
       "L\"$\\frac{y_{1} - y_{2}}{x_{1} - x_{2}}$\""
      ]
     },
     "execution_count": 73,
     "metadata": {},
     "output_type": "execute_result"
    }
   ],
   "source": [
    "L\"$\\frac{y_{1} - y_{2}}{x_{1} - x_{2}}$\""
   ]
  },
  {
   "cell_type": "code",
   "execution_count": null,
   "metadata": {},
   "outputs": [],
   "source": []
  },
  {
   "cell_type": "markdown",
   "metadata": {},
   "source": [
    "##### Sum,Products,Calculus\n"
   ]
  },
  {
   "cell_type": "code",
   "execution_count": 74,
   "metadata": {},
   "outputs": [
    {
     "data": {
      "text/latex": [
       "$$\\sum\\limits_{x=1}^{\\infty}$$"
      ],
      "text/plain": [
       "L\"$$\\sum\\limits_{x=1}^{\\infty}$$\""
      ]
     },
     "execution_count": 74,
     "metadata": {},
     "output_type": "execute_result"
    }
   ],
   "source": [
    "# syntax = \\sum\\limits_{lowerlimit}^{upperlimit}\n",
    "L\"$$\\sum\\limits_{x=1}^{\\infty}$$\""
   ]
  },
  {
   "cell_type": "code",
   "execution_count": 75,
   "metadata": {},
   "outputs": [
    {
     "data": {
      "text/latex": [
       "$$\\sum\\limits_{x=1}^{\\infty}{1 \\over x}$$"
      ],
      "text/plain": [
       "L\"$$\\sum\\limits_{x=1}^{\\infty}{1 \\over x}$$\""
      ]
     },
     "execution_count": 75,
     "metadata": {},
     "output_type": "execute_result"
    }
   ],
   "source": [
    "L\"$$\\sum\\limits_{x=1}^{\\infty}{1 \\over x}$$\""
   ]
  },
  {
   "cell_type": "code",
   "execution_count": 79,
   "metadata": {},
   "outputs": [
    {
     "data": {
      "text/latex": [
       "$$f(x) = \\sqrt[3]{4x} + \\sqrt{x-4}$$"
      ],
      "text/plain": [
       "L\"$$f(x) = \\sqrt[3]{4x} + \\sqrt{x-4}$$\""
      ]
     },
     "execution_count": 79,
     "metadata": {},
     "output_type": "execute_result"
    }
   ],
   "source": [
    "L\"$$f(x) = \\sqrt[3]{4x} + \\sqrt{x-4}$$\""
   ]
  },
  {
   "cell_type": "code",
   "execution_count": 80,
   "metadata": {},
   "outputs": [
    {
     "data": {
      "text/latex": [
       "$\\prod\\limits_{i=1}^{n} x_i - 1$"
      ],
      "text/plain": [
       "L\"$\\prod\\limits_{i=1}^{n} x_i - 1$\""
      ]
     },
     "execution_count": 80,
     "metadata": {},
     "output_type": "execute_result"
    }
   ],
   "source": [
    "# syntax = \\sum\\limits_{lowerlimit}^{upperlimit}\n",
    "L\"$\\prod\\limits_{i=1}^{n} x_i - 1$\""
   ]
  },
  {
   "cell_type": "markdown",
   "metadata": {},
   "source": [
    "$$\\lim\\limits_{x \\to 0^+} {1 \\over 0} = \\inf$$\n",
    "$$\\int\\limits_a^b 2x \\, dx$$"
   ]
  },
  {
   "cell_type": "code",
   "execution_count": 82,
   "metadata": {},
   "outputs": [],
   "source": [
    "# By Jesse JCharis\n",
    "# J-Secur1ty \n",
    "# Jesus Saves @ JCharisTech"
   ]
  },
  {
   "cell_type": "code",
   "execution_count": null,
   "metadata": {},
   "outputs": [],
   "source": []
  }
 ],
 "metadata": {
  "kernelspec": {
   "display_name": "Julia 0.6.2",
   "language": "julia",
   "name": "julia-0.6"
  },
  "language_info": {
   "file_extension": ".jl",
   "mimetype": "application/julia",
   "name": "julia",
   "version": "0.6.2"
  }
 },
 "nbformat": 4,
 "nbformat_minor": 2
}
