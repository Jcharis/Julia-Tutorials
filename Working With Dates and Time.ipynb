{
 "cells": [
  {
   "cell_type": "markdown",
   "metadata": {},
   "source": [
    "### Working With Dates,Time & TimeZones in Julia\n",
    "+ Time ==> only time\n",
    "+ Dates ==> dates\n",
    "+ DateTime ==> both Dates,Time\n",
    "\n",
    "+ Pkg.add(\"Dates\")\n",
    "+ Pkg.add(\"TimeZones\")"
   ]
  },
  {
   "cell_type": "code",
   "execution_count": 1,
   "metadata": {},
   "outputs": [
    {
     "name": "stderr",
     "output_type": "stream",
     "text": [
      "WARNING: requiring \"Dates\" in module \"Main\" did not define a corresponding module.\n"
     ]
    }
   ],
   "source": [
    "using Dates,TimeZones"
   ]
  },
  {
   "cell_type": "markdown",
   "metadata": {},
   "source": [
    "#### Create DateTime Objects"
   ]
  },
  {
   "cell_type": "code",
   "execution_count": 2,
   "metadata": {},
   "outputs": [
    {
     "data": {
      "text/plain": [
       "2018-01-21T00:00:00"
      ]
     },
     "execution_count": 2,
     "metadata": {},
     "output_type": "execute_result"
    }
   ],
   "source": [
    "favdate = DateTime(2018,01,21)"
   ]
  },
  {
   "cell_type": "code",
   "execution_count": 3,
   "metadata": {},
   "outputs": [
    {
     "data": {
      "text/plain": [
       "2018-01-21"
      ]
     },
     "execution_count": 3,
     "metadata": {},
     "output_type": "execute_result"
    }
   ],
   "source": [
    "Date(favdate)"
   ]
  },
  {
   "cell_type": "code",
   "execution_count": 4,
   "metadata": {},
   "outputs": [
    {
     "data": {
      "text/plain": [
       "00:00:00"
      ]
     },
     "execution_count": 4,
     "metadata": {},
     "output_type": "execute_result"
    }
   ],
   "source": [
    "Time(favdate)"
   ]
  },
  {
   "cell_type": "code",
   "execution_count": 5,
   "metadata": {},
   "outputs": [
    {
     "data": {
      "text/plain": [
       "2018"
      ]
     },
     "execution_count": 5,
     "metadata": {},
     "output_type": "execute_result"
    }
   ],
   "source": [
    "year(favdate)"
   ]
  },
  {
   "cell_type": "code",
   "execution_count": 6,
   "metadata": {},
   "outputs": [
    {
     "data": {
      "text/plain": [
       "1"
      ]
     },
     "execution_count": 6,
     "metadata": {},
     "output_type": "execute_result"
    }
   ],
   "source": [
    "month(favdate)"
   ]
  },
  {
   "cell_type": "code",
   "execution_count": 7,
   "metadata": {},
   "outputs": [
    {
     "data": {
      "text/plain": [
       "\"January\""
      ]
     },
     "execution_count": 7,
     "metadata": {},
     "output_type": "execute_result"
    }
   ],
   "source": [
    "monthname(favdate)"
   ]
  },
  {
   "cell_type": "code",
   "execution_count": 9,
   "metadata": {},
   "outputs": [
    {
     "data": {
      "text/plain": [
       "\"Sunday\""
      ]
     },
     "execution_count": 9,
     "metadata": {},
     "output_type": "execute_result"
    }
   ],
   "source": [
    "dayname(favdate)"
   ]
  },
  {
   "cell_type": "code",
   "execution_count": 16,
   "metadata": {},
   "outputs": [
    {
     "data": {
      "text/plain": [
       "2018-01-21T15:30:00"
      ]
     },
     "execution_count": 16,
     "metadata": {},
     "output_type": "execute_result"
    }
   ],
   "source": [
    "favdate1 = DateTime(\"2018,01,21 15:30\",\"yyyy,mm,dd HH:MM\")"
   ]
  },
  {
   "cell_type": "code",
   "execution_count": 17,
   "metadata": {},
   "outputs": [
    {
     "data": {
      "text/plain": [
       "15:30:00"
      ]
     },
     "execution_count": 17,
     "metadata": {},
     "output_type": "execute_result"
    }
   ],
   "source": [
    "Time(favdate1)"
   ]
  },
  {
   "cell_type": "code",
   "execution_count": 18,
   "metadata": {},
   "outputs": [
    {
     "data": {
      "text/plain": [
       "30 minutes"
      ]
     },
     "execution_count": 18,
     "metadata": {},
     "output_type": "execute_result"
    }
   ],
   "source": [
    "Minute(favdate1)"
   ]
  },
  {
   "cell_type": "markdown",
   "metadata": {},
   "source": [
    "#### Create DateTime Objects With Delimiter"
   ]
  },
  {
   "cell_type": "code",
   "execution_count": 19,
   "metadata": {},
   "outputs": [
    {
     "data": {
      "text/plain": [
       "2018-01-21T15:30:00"
      ]
     },
     "execution_count": 19,
     "metadata": {},
     "output_type": "execute_result"
    }
   ],
   "source": [
    "favdate2 = DateTime(\"2018-01-21 15:30\",\"yyyy-mm-dd HH:MM\")"
   ]
  },
  {
   "cell_type": "code",
   "execution_count": 20,
   "metadata": {},
   "outputs": [
    {
     "data": {
      "text/plain": [
       "2018"
      ]
     },
     "execution_count": 20,
     "metadata": {},
     "output_type": "execute_result"
    }
   ],
   "source": [
    "# Other Functions\n",
    "year(favdate2)"
   ]
  },
  {
   "cell_type": "code",
   "execution_count": 21,
   "metadata": {},
   "outputs": [
    {
     "data": {
      "text/plain": [
       "15"
      ]
     },
     "execution_count": 21,
     "metadata": {},
     "output_type": "execute_result"
    }
   ],
   "source": [
    "hour(favdate2)"
   ]
  },
  {
   "cell_type": "code",
   "execution_count": 22,
   "metadata": {},
   "outputs": [
    {
     "data": {
      "text/plain": [
       "30"
      ]
     },
     "execution_count": 22,
     "metadata": {},
     "output_type": "execute_result"
    }
   ],
   "source": [
    "minute(favdate2)"
   ]
  },
  {
   "cell_type": "code",
   "execution_count": 23,
   "metadata": {},
   "outputs": [
    {
     "data": {
      "text/plain": [
       "0"
      ]
     },
     "execution_count": 23,
     "metadata": {},
     "output_type": "execute_result"
    }
   ],
   "source": [
    "second(favdate2)"
   ]
  },
  {
   "cell_type": "code",
   "execution_count": null,
   "metadata": {},
   "outputs": [],
   "source": [
    "# Checking for current time and date"
   ]
  },
  {
   "cell_type": "code",
   "execution_count": 24,
   "metadata": {},
   "outputs": [
    {
     "data": {
      "text/plain": [
       "2018-01-21"
      ]
     },
     "execution_count": 24,
     "metadata": {},
     "output_type": "execute_result"
    }
   ],
   "source": [
    "# Today's Dates\n",
    "today()"
   ]
  },
  {
   "cell_type": "code",
   "execution_count": 25,
   "metadata": {},
   "outputs": [
    {
     "data": {
      "text/plain": [
       "1.51654699863e9"
      ]
     },
     "execution_count": 25,
     "metadata": {},
     "output_type": "execute_result"
    }
   ],
   "source": [
    "# Current time now using Unix Date\n",
    "time()"
   ]
  },
  {
   "cell_type": "code",
   "execution_count": 26,
   "metadata": {},
   "outputs": [
    {
     "data": {
      "text/plain": [
       "2018-01-21T15:03:42.488"
      ]
     },
     "execution_count": 26,
     "metadata": {},
     "output_type": "execute_result"
    }
   ],
   "source": [
    "unix2datetime(time())"
   ]
  },
  {
   "cell_type": "code",
   "execution_count": 31,
   "metadata": {},
   "outputs": [
    {
     "data": {
      "text/plain": [
       "Base.Dates.Time"
      ]
     },
     "execution_count": 31,
     "metadata": {},
     "output_type": "execute_result"
    }
   ],
   "source": [
    "#Time(now())\n",
    "typeof(Time(now()))"
   ]
  },
  {
   "cell_type": "code",
   "execution_count": 30,
   "metadata": {},
   "outputs": [
    {
     "data": {
      "text/plain": [
       "DateTime"
      ]
     },
     "execution_count": 30,
     "metadata": {},
     "output_type": "execute_result"
    }
   ],
   "source": [
    "#current time now\n",
    "#now()\n",
    "typeof(now())"
   ]
  },
  {
   "cell_type": "markdown",
   "metadata": {},
   "source": [
    "#### Create Date Objects"
   ]
  },
  {
   "cell_type": "code",
   "execution_count": 33,
   "metadata": {},
   "outputs": [
    {
     "data": {
      "text/plain": [
       "1-element Array{Date,1}:\n",
       " 2017-02-14"
      ]
     },
     "execution_count": 33,
     "metadata": {},
     "output_type": "execute_result"
    }
   ],
   "source": [
    "Date([\"2017-02-14\"],DateFormat(\"y-m-d\"))"
   ]
  },
  {
   "cell_type": "code",
   "execution_count": 34,
   "metadata": {},
   "outputs": [
    {
     "data": {
      "text/plain": [
       "1-element Array{Date,1}:\n",
       " 2017-02-14"
      ]
     },
     "execution_count": 34,
     "metadata": {},
     "output_type": "execute_result"
    }
   ],
   "source": [
    "# DateFormat must march each other\n",
    "Date([\"2017/02/14\"],DateFormat(\"y/m/d\"))"
   ]
  },
  {
   "cell_type": "markdown",
   "metadata": {},
   "source": [
    "#### Adding/Subtracting Dates"
   ]
  },
  {
   "cell_type": "code",
   "execution_count": 35,
   "metadata": {},
   "outputs": [
    {
     "data": {
      "text/plain": [
       "2012-02-14T00:00:00"
      ]
     },
     "execution_count": 35,
     "metadata": {},
     "output_type": "execute_result"
    }
   ],
   "source": [
    "releasedate = DateTime(2012,02,14)"
   ]
  },
  {
   "cell_type": "code",
   "execution_count": 36,
   "metadata": {},
   "outputs": [
    {
     "data": {
      "text/plain": [
       "100 days"
      ]
     },
     "execution_count": 36,
     "metadata": {},
     "output_type": "execute_result"
    }
   ],
   "source": [
    "# Create 100 Days\n",
    "Day(100)"
   ]
  },
  {
   "cell_type": "code",
   "execution_count": 37,
   "metadata": {},
   "outputs": [
    {
     "data": {
      "text/plain": [
       "2012-05-24T00:00:00"
      ]
     },
     "execution_count": 37,
     "metadata": {},
     "output_type": "execute_result"
    }
   ],
   "source": [
    "releasedate + Day(100)"
   ]
  },
  {
   "cell_type": "code",
   "execution_count": 38,
   "metadata": {},
   "outputs": [
    {
     "data": {
      "text/plain": [
       "2013-02-14T00:00:00"
      ]
     },
     "execution_count": 38,
     "metadata": {},
     "output_type": "execute_result"
    }
   ],
   "source": [
    "releasedate + Month(12)"
   ]
  },
  {
   "cell_type": "code",
   "execution_count": 40,
   "metadata": {},
   "outputs": [
    {
     "data": {
      "text/plain": [
       "2011-11-22T00:00:00"
      ]
     },
     "execution_count": 40,
     "metadata": {},
     "output_type": "execute_result"
    }
   ],
   "source": [
    "releasedate - Week(12)"
   ]
  },
  {
   "cell_type": "code",
   "execution_count": 41,
   "metadata": {},
   "outputs": [
    {
     "data": {
      "text/plain": [
       "2"
      ]
     },
     "execution_count": 41,
     "metadata": {},
     "output_type": "execute_result"
    }
   ],
   "source": [
    "# Checking for Month\n",
    "month(releasedate)"
   ]
  },
  {
   "cell_type": "code",
   "execution_count": 42,
   "metadata": {},
   "outputs": [
    {
     "data": {
      "text/plain": [
       "\"February\""
      ]
     },
     "execution_count": 42,
     "metadata": {},
     "output_type": "execute_result"
    }
   ],
   "source": [
    "# Checking for Month Name\n",
    "monthname(releasedate)"
   ]
  },
  {
   "cell_type": "code",
   "execution_count": 43,
   "metadata": {},
   "outputs": [
    {
     "data": {
      "text/plain": [
       "true"
      ]
     },
     "execution_count": 43,
     "metadata": {},
     "output_type": "execute_result"
    }
   ],
   "source": [
    "isleapyear(releasedate)"
   ]
  },
  {
   "cell_type": "markdown",
   "metadata": {},
   "source": [
    "### Time Zone"
   ]
  },
  {
   "cell_type": "code",
   "execution_count": 45,
   "metadata": {},
   "outputs": [
    {
     "data": {
      "text/plain": [
       "439-element Array{AbstractString,1}:\n",
       " \"Africa/Abidjan\"      \n",
       " \"Africa/Accra\"        \n",
       " \"Africa/Addis_Ababa\"  \n",
       " \"Africa/Algiers\"      \n",
       " \"Africa/Asmara\"       \n",
       " \"Africa/Bamako\"       \n",
       " \"Africa/Bangui\"       \n",
       " \"Africa/Banjul\"       \n",
       " \"Africa/Bissau\"       \n",
       " \"Africa/Blantyre\"     \n",
       " \"Africa/Brazzaville\"  \n",
       " \"Africa/Bujumbura\"    \n",
       " \"Africa/Cairo\"        \n",
       " ⋮                     \n",
       " \"Pacific/Pitcairn\"    \n",
       " \"Pacific/Pohnpei\"     \n",
       " \"Pacific/Port_Moresby\"\n",
       " \"Pacific/Rarotonga\"   \n",
       " \"Pacific/Saipan\"      \n",
       " \"Pacific/Tahiti\"      \n",
       " \"Pacific/Tarawa\"      \n",
       " \"Pacific/Tongatapu\"   \n",
       " \"Pacific/Wake\"        \n",
       " \"Pacific/Wallis\"      \n",
       " \"UTC\"                 \n",
       " \"WET\"                 "
      ]
     },
     "execution_count": 45,
     "metadata": {},
     "output_type": "execute_result"
    }
   ],
   "source": [
    "# List All Time Zones\n",
    "timezone_names()"
   ]
  },
  {
   "cell_type": "code",
   "execution_count": 46,
   "metadata": {},
   "outputs": [
    {
     "data": {
      "text/plain": [
       "Africa/Accra (UTC+0)"
      ]
     },
     "execution_count": 46,
     "metadata": {},
     "output_type": "execute_result"
    }
   ],
   "source": [
    "TimeZone(\"Africa/Accra\")"
   ]
  },
  {
   "cell_type": "code",
   "execution_count": 47,
   "metadata": {},
   "outputs": [
    {
     "data": {
      "text/plain": [
       "Europe/Paris (UTC+1/UTC+2)"
      ]
     },
     "execution_count": 47,
     "metadata": {},
     "output_type": "execute_result"
    }
   ],
   "source": [
    "# Short form of TimeZone \n",
    "tz\"Europe/Paris\"\n"
   ]
  },
  {
   "cell_type": "code",
   "execution_count": 48,
   "metadata": {},
   "outputs": [
    {
     "data": {
      "text/plain": [
       "2018-01-21T17:11:28.533"
      ]
     },
     "execution_count": 48,
     "metadata": {},
     "output_type": "execute_result"
    }
   ],
   "source": [
    "now()"
   ]
  },
  {
   "cell_type": "code",
   "execution_count": 49,
   "metadata": {},
   "outputs": [
    {
     "data": {
      "text/plain": [
       "2018-01-21T16:12:03.635+01:00"
      ]
     },
     "execution_count": 49,
     "metadata": {},
     "output_type": "execute_result"
    }
   ],
   "source": [
    "# Checking for the current time now with the timezone of Europe/Paris\n",
    "now(TimeZone(\"Europe/Paris\"))"
   ]
  },
  {
   "cell_type": "code",
   "execution_count": 50,
   "metadata": {},
   "outputs": [
    {
     "data": {
      "text/plain": [
       "2018-01-21T16:12:18.459+01:00"
      ]
     },
     "execution_count": 50,
     "metadata": {},
     "output_type": "execute_result"
    }
   ],
   "source": [
    "now(tz\"Europe/Paris\")"
   ]
  },
  {
   "cell_type": "code",
   "execution_count": null,
   "metadata": {},
   "outputs": [],
   "source": [
    "now(localzone())"
   ]
  },
  {
   "cell_type": "code",
   "execution_count": 51,
   "metadata": {},
   "outputs": [
    {
     "name": "stdout",
     "output_type": "stream",
     "text": [
      "                       @tz_str      0 bytes  TimeZones.#@tz_str\n",
      "            AmbiguousTimeError    124 bytes  DataType\n",
      "                      DateTime    112 bytes  DataType\n",
      "                 FixedTimeZone    124 bytes  DataType\n",
      "          NonExistentTimeError    124 bytes  DataType\n",
      "                     TimeError     92 bytes  DataType\n",
      "                      TimeZone     92 bytes  DataType\n",
      "                     TimeZones  22457 KB     Module\n",
      "            UnhandledTimeError    112 bytes  DataType\n",
      "              VariableTimeZone    136 bytes  DataType\n",
      "                 ZonedDateTime    136 bytes  DataType\n",
      "                 all_timezones      0 bytes  TimeZones.#all_timezones\n",
      "                    astimezone      0 bytes  TimeZones.#astimezone\n",
      "                         build      0 bytes  TimeZones.#build\n",
      "                           day      0 bytes  Base.Dates.#day\n",
      "                    dayofmonth      0 bytes  Base.Dates.#dayofmonth\n",
      "               firstdayofmonth      0 bytes  Base.Dates.#firstdayofmonth\n",
      "             firstdayofquarter      0 bytes  Base.Dates.#firstdayofquarter\n",
      "                firstdayofweek      0 bytes  Base.Dates.#firstdayofweek\n",
      "                firstdayofyear      0 bytes  Base.Dates.#firstdayofyear\n",
      "                         guess      0 bytes  Base.Dates.#guess\n",
      "                          hour      0 bytes  Base.Dates.#hour\n",
      "                    istimezone      0 bytes  TimeZones.#istimezone\n",
      "                lastdayofmonth      0 bytes  Base.Dates.#lastdayofmonth\n",
      "              lastdayofquarter      0 bytes  Base.Dates.#lastdayofquarter\n",
      "                 lastdayofweek      0 bytes  Base.Dates.#lastdayofweek\n",
      "                 lastdayofyear      0 bytes  Base.Dates.#lastdayofyear\n",
      "                     localzone      0 bytes  TimeZones.#localzone\n",
      "                   millisecond      0 bytes  Base.Dates.#millisecond\n",
      "                        minute      0 bytes  Base.Dates.#minute\n",
      "                         month      0 bytes  Base.Dates.#month\n",
      "                      monthday      0 bytes  Base.Dates.#monthday\n",
      "                           now      0 bytes  Base.Dates.#now\n",
      "                        second      0 bytes  Base.Dates.#second\n",
      "                timezone_abbrs      0 bytes  TimeZones.#timezone_abbrs\n",
      "                timezone_names      0 bytes  TimeZones.#timezone_names\n",
      "           timezones_from_abbr      0 bytes  TimeZones.#timezones_from_abbr\n",
      "                          week      0 bytes  Base.Dates.#week\n",
      "                          year      0 bytes  Base.Dates.#year\n",
      "                     yearmonth      0 bytes  Base.Dates.#yearmonth\n",
      "                  yearmonthday      0 bytes  Base.Dates.#yearmonthday\n"
     ]
    }
   ],
   "source": [
    "whos(TimeZones)"
   ]
  },
  {
   "cell_type": "code",
   "execution_count": 55,
   "metadata": {},
   "outputs": [
    {
     "data": {
      "text/plain": [
       "2020-04-24T00:00:00+02:00"
      ]
     },
     "execution_count": 55,
     "metadata": {},
     "output_type": "execute_result"
    }
   ],
   "source": [
    "ZonedDateTime(2020,04,24, tz\"Europe/Berlin\")"
   ]
  },
  {
   "cell_type": "code",
   "execution_count": 56,
   "metadata": {},
   "outputs": [
    {
     "data": {
      "text/plain": [
       "TimeZones.ZonedDateTime"
      ]
     },
     "execution_count": 56,
     "metadata": {},
     "output_type": "execute_result"
    }
   ],
   "source": [
    "typeof(ZonedDateTime(2020,04,24, tz\"Europe/Berlin\"))"
   ]
  },
  {
   "cell_type": "code",
   "execution_count": null,
   "metadata": {},
   "outputs": [],
   "source": [
    "# J-Secur1ty\n",
    "# Jesus Saves @ JCharisTech"
   ]
  }
 ],
 "metadata": {
  "kernelspec": {
   "display_name": "Julia 0.6.2",
   "language": "julia",
   "name": "julia-0.6"
  },
  "language_info": {
   "file_extension": ".jl",
   "mimetype": "application/julia",
   "name": "julia",
   "version": "0.6.2"
  }
 },
 "nbformat": 4,
 "nbformat_minor": 2
}
